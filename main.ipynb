{
 "cells": [
  {
   "cell_type": "markdown",
   "id": "439cb32c",
   "metadata": {},
   "source": [
    "<center>\n",
    "    <img src=\"logo.png\" alt=\"DYCSI Logo\" width=\"600\"/>\n",
    "    <h1>\"Survey for the selection of AI Adoption Leaders\"</h1>\n",
    "    <h3>Powered by the AI Adoption Team</h3>\n",
    "</center>"
   ]
  },
  {
   "cell_type": "markdown",
   "id": "ee2a03f6",
   "metadata": {},
   "source": [
    "---\n",
    "#### Project to identify early adopters and internal opinion leaders through a survey and a machine learning model. The objective is to select a group of charismatic, proactive, and positively influential employees to lead and facilitate the adoption of new Artificial Intelligence technologies in the company.\n",
    "\n",
    "---"
   ]
  },
  {
   "cell_type": "markdown",
   "id": "55dafb89",
   "metadata": {},
   "source": [
    "## 1. MAKING THE SURVEY\n",
    "\n",
    "- ### Question 1...\n",
    "####    Why this question?\n",
    "\n",
    "- ### Question 2...\n",
    "####    Why this question?\n",
    "\n",
    "- ### Question 2...\n",
    "####     Why this question?\n",
    "\n",
    "- ### Question 2...\n",
    "####     Why this question?\n",
    "\n",
    "- ### Question 2...\n",
    "####     Why this question?\n",
    "\n",
    "---"
   ]
  },
  {
   "cell_type": "markdown",
   "id": "6e75ba19",
   "metadata": {},
   "source": [
    "# 2. GETTING THE RESULTS"
   ]
  },
  {
   "cell_type": "code",
   "execution_count": 2,
   "id": "945b03f3",
   "metadata": {},
   "outputs": [],
   "source": [
    "import pandas as pd\n",
    "import numpy as np\n",
    "\n",
    "\n",
    "\n",
    "\n",
    "\n",
    "\n",
    "\n"
   ]
  },
  {
   "cell_type": "markdown",
   "id": "999f50d1",
   "metadata": {},
   "source": [
    "---\n",
    "# 3. VISUALIZING THE DATA"
   ]
  },
  {
   "cell_type": "code",
   "execution_count": 3,
   "id": "cc316d19",
   "metadata": {},
   "outputs": [],
   "source": [
    "import matplotlib.pyplot as plt\n",
    "import seaborn as sns\n",
    "\n",
    "\n",
    "\n",
    "\n",
    "\n",
    "\n",
    "\n"
   ]
  },
  {
   "cell_type": "markdown",
   "id": "b6cae277",
   "metadata": {},
   "source": [
    "---\n",
    "# 4. CREATING THE LOGISTIC REGRESSION MODEL"
   ]
  },
  {
   "cell_type": "code",
   "execution_count": 4,
   "id": "ea6808d3",
   "metadata": {},
   "outputs": [],
   "source": [
    "from sklearn.linear_model import LogisticRegression\n",
    "from sklearn.model_selection import train_test_split\n",
    "from sklearn.preprocessing import StandardScaler\n",
    "from sklearn.pipeline import Pipeline\n",
    "\n",
    "\n"
   ]
  },
  {
   "cell_type": "markdown",
   "id": "ae600dbd",
   "metadata": {},
   "source": [
    "---\n",
    "# 5. VISUALIZING THE RESULTS OF THE PREDICTIONS"
   ]
  },
  {
   "cell_type": "code",
   "execution_count": null,
   "id": "e583d8f4",
   "metadata": {},
   "outputs": [],
   "source": []
  }
 ],
 "metadata": {
  "kernelspec": {
   "display_name": "base",
   "language": "python",
   "name": "python3"
  },
  "language_info": {
   "codemirror_mode": {
    "name": "ipython",
    "version": 3
   },
   "file_extension": ".py",
   "mimetype": "text/x-python",
   "name": "python",
   "nbconvert_exporter": "python",
   "pygments_lexer": "ipython3",
   "version": "3.11.5"
  }
 },
 "nbformat": 4,
 "nbformat_minor": 5
}
